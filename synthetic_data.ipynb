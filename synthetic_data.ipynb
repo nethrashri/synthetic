{
  "nbformat": 4,
  "nbformat_minor": 0,
  "metadata": {
    "colab": {
      "provenance": []
    },
    "kernelspec": {
      "name": "python3",
      "display_name": "Python 3"
    },
    "language_info": {
      "name": "python"
    }
  },
  "cells": [
    {
      "cell_type": "code",
      "execution_count": 1,
      "metadata": {
        "id": "3KtQ5ZJ7GtF4"
      },
      "outputs": [],
      "source": [
        "import numpy as np\n",
        "import pandas as pd\n",
        "from datetime import datetime, timedelta\n"
      ]
    },
    {
      "cell_type": "code",
      "source": [
        "\n",
        "# Set seed for reproducibility\n",
        "np.random.seed(42)\n",
        "\n",
        "# Function to generate random timestamps\n",
        "def generate_random_timestamps(start_date, end_date, num_samples):\n",
        "    start_timestamp = start_date.timestamp() * 1000  # Convert to milliseconds\n",
        "    end_timestamp = end_date.timestamp() * 1000\n",
        "    return np.random.randint(start_timestamp, end_timestamp, num_samples)\n",
        "\n",
        "# Function to create synthetic dataset\n",
        "def create_synthetic_dataset(num_samples):\n",
        "    start_date = datetime(2024, 1, 1)\n",
        "    end_date = datetime(2024, 2, 15)\n",
        "\n",
        "    # Generate random timestamps\n",
        "    timestamps = generate_random_timestamps(start_date, end_date, num_samples)\n",
        "\n",
        "    # Generate random device names, weather, room names, and device status\n",
        "    device_names = np.random.choice(['light', 'porch light'], num_samples)\n",
        "    weather = np.random.choice(['precipitation', 'humidity', 'temperature', 'atmospheric pressure', 'cloudiness', 'rainy', 'wind'], num_samples)\n",
        "    room_names = np.random.choice(['bedroom', 'living room'], num_samples)\n",
        "    device_status = np.random.choice(['on', 'off'], num_samples)\n",
        "\n",
        "    # Create synthetic dataset\n",
        "    synthetic_data = pd.DataFrame({\n",
        "        'Timestamp': timestamps,\n",
        "        'DeviceName': device_names,\n",
        "        'Weather': weather,\n",
        "        'RoomName': room_names,\n",
        "        'DeviceStatus': device_status\n",
        "    })\n",
        "\n",
        "    return synthetic_data\n",
        "\n",
        "# Specify the number of samples\n",
        "num_samples = 100\n",
        "\n",
        "# Create synthetic dataset\n",
        "synthetic_dataset = create_synthetic_dataset(num_samples)\n",
        "\n",
        "# Sort the dataset by timestamp\n",
        "synthetic_dataset = synthetic_dataset.sort_values(by='Timestamp')\n",
        "\n",
        "# Save the dataset to a CSV file\n",
        "synthetic_dataset.to_csv('synthetic_dataset.csv', index=False)\n",
        "\n",
        "print(\"Synthetic dataset saved to 'synthetic_dataset.csv'\")\n"
      ],
      "metadata": {
        "colab": {
          "base_uri": "https://localhost:8080/"
        },
        "id": "Oq1FlVBbGzBG",
        "outputId": "ff8617ca-a570-4cba-ca7e-0fa0a178921d"
      },
      "execution_count": 2,
      "outputs": [
        {
          "output_type": "stream",
          "name": "stdout",
          "text": [
            "Synthetic dataset saved to 'synthetic_dataset.csv'\n"
          ]
        }
      ]
    },
    {
      "cell_type": "code",
      "source": [
        "import numpy as np\n",
        "import pandas as pd\n",
        "from datetime import datetime, timedelta\n",
        "\n",
        "# Set seed for reproducibility\n",
        "np.random.seed(42)\n",
        "\n",
        "# Function to generate random timestamps\n",
        "def generate_random_timestamps(start_date, end_date, num_samples):\n",
        "    start_timestamp = start_date.timestamp() * 1000  # Convert to milliseconds\n",
        "    end_timestamp = end_date.timestamp() * 1000\n",
        "    return np.random.randint(start_timestamp, end_timestamp, num_samples)\n",
        "\n",
        "# Function to create synthetic dataset\n",
        "def create_synthetic_dataset(num_samples):\n",
        "    start_date = datetime(2024, 1, 1)\n",
        "    end_date = datetime(2024, 2, 15)\n",
        "\n",
        "    # Generate random timestamps\n",
        "    timestamps = generate_random_timestamps(start_date, end_date, num_samples)\n",
        "\n",
        "    # Generate random device names, weather, room names, and device status\n",
        "    device_names = np.random.choice(['light', 'porch light'], num_samples)\n",
        "    weather = np.random.choice(['precipitation', 'humidity', 'temperature', 'atmospheric pressure', 'cloudiness', 'rainy', 'wind'], num_samples)\n",
        "    room_names = np.random.choice(['bedroom', 'living room'], num_samples)\n",
        "    device_status = np.random.choice(['on', 'off'], num_samples)\n",
        "\n",
        "    # Create synthetic dataset\n",
        "    synthetic_data = pd.DataFrame({\n",
        "        'Timestamp': timestamps,\n",
        "        'DeviceName': device_names,\n",
        "        'Weather': weather,\n",
        "        'RoomName': room_names,\n",
        "        'DeviceStatus': device_status\n",
        "    })\n",
        "\n",
        "    return synthetic_data\n",
        "\n",
        "# Specify the number of samples\n",
        "num_samples = 100\n",
        "\n",
        "# Create synthetic dataset\n",
        "synthetic_dataset = create_synthetic_dataset(num_samples)\n",
        "\n",
        "# Sort the dataset by timestamp\n",
        "synthetic_dataset = synthetic_dataset.sort_values(by='Timestamp')\n",
        "\n",
        "# Output the dataset\n",
        "print(synthetic_dataset)\n"
      ],
      "metadata": {
        "colab": {
          "base_uri": "https://localhost:8080/"
        },
        "id": "Nfo7nUQ0HhiC",
        "outputId": "c170d98c-f3de-4cd0-f512-10a565b60b36"
      },
      "execution_count": 3,
      "outputs": [
        {
          "output_type": "stream",
          "name": "stdout",
          "text": [
            "        Timestamp   DeviceName               Weather     RoomName DeviceStatus\n",
            "24  1704070544769        light              humidity      bedroom          off\n",
            "31  1704097549564        light         precipitation      bedroom           on\n",
            "59  1704124172561  porch light  atmospheric pressure      bedroom           on\n",
            "64  1704135774553        light           temperature      bedroom           on\n",
            "19  1704155609749        light  atmospheric pressure      bedroom           on\n",
            "..            ...          ...                   ...          ...          ...\n",
            "74  1707645744903        light                 rainy  living room           on\n",
            "90  1707684785553  porch light           temperature  living room          off\n",
            "53  1707760615908        light         precipitation  living room          off\n",
            "13  1707787398231        light         precipitation      bedroom           on\n",
            "94  1707910454205  porch light            cloudiness  living room           on\n",
            "\n",
            "[100 rows x 5 columns]\n"
          ]
        }
      ]
    },
    {
      "cell_type": "code",
      "source": [],
      "metadata": {
        "id": "iEQTMMw7HiD4"
      },
      "execution_count": null,
      "outputs": []
    }
  ]
}